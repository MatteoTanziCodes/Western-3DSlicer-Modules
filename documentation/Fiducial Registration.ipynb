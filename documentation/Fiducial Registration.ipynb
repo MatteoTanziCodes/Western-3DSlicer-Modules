{
 "cells": [
  {
   "cell_type": "markdown",
   "id": "4a8838fe",
   "metadata": {},
   "source": [
    "# Understanding Fiducial Registration"
   ]
  },
  {
   "cell_type": "markdown",
   "id": "d33f5d1c",
   "metadata": {},
   "source": [
    "#### What is Fiducial Registration?\n",
    "\n",
    "Fidicial registration is and important technique used in image guided surguries. It is the process of applying a rigid transformation technique to a set of localized points (fiducials) in a 3D patient image, in order to register the first set of points to the second set of points. This overall transformation will be applied to the entire image, and non-fiducials or \"targets\" will be used to assess the error. While various applications of fiducial registration use an interoperative coordinate system that generally uses a handheld tracker to physically point to the targets, this application of fiducial registration will use an algorithm that determines the Fiducials and Fiducial targets on each of the imaging systems. While there may be newly developed techniques using deep learning that allow for greater quality image registration, the speed and cost of fiducial registration still makes it a viable tool for image transformation.\n",
    "\n",
    "#### Application of Fiducial Registration:\n",
    "\n",
    "The application of fiducial registration in the context of this project will be to set fiducials using various methodologies, then calculate the target registration error (TRE) which will be placed at the center point of the tumour volume. While error is guarenteed, the technique with minimal error will be applied.\n"
   ]
  },
  {
   "cell_type": "markdown",
   "id": "1f2936d6",
   "metadata": {},
   "source": [
    "#### What is a Fiducial?\n",
    "\n",
    "A fiducial, or fidicial marker is a point used in an imaging system that appears in the produced image as a point of reference or measure. It may be placed or set in the reticle of an optical instrument."
   ]
  },
  {
   "cell_type": "markdown",
   "id": "1b865c55",
   "metadata": {},
   "source": [
    "#### Rigid Transformations:\n",
    "\n",
    "A rigid body transformation, is one such that the mapping of a set in euclidean space to another subset in the euclidean space such that the euclidean distances between points are preserved. Therefore, after scale adjusting each of the euclidean spaces in the image systems to proportionality, they will use some combination of a rotation, translation and reflections to achieve the desired transformation. Rigid transformations often use a transformation matrix to represent the transformation from one set of points to another.\n",
    "\n",
    "#### Proper Rigid Transformations:\n",
    "\n",
    "A proper rigid transformation analyzes certain important characteristics, that ensure that the applied transformation is correct. The determinant of the transformation matrix R, must equal positive one, even if the matrix that equals negative one has less FLE. This is important because it ensure correct reflection and rotation transformations have been applied, and that the properties of rigid transformations are being upheld. Using proper transformations also ensures that there is less TRE.\n",
    "\n",
    "#### Affine Transformations:\n",
    "\n",
    "An affine transformation is a geometric transformation that preserves lines and parallelism (but not necessarily distances and angles). Examples of affine transformations include translation, scaling, homothety, similarity, reflection, rotation, shear mapping, and compositions of them in any combination and sequence. \n",
    "\n",
    "#### Deformable Transformations:\n",
    "\n",
    "Deformable transformations allow a non-uniform mapping between images. Measure and/or correct small, varying discrepancies by deforming one image to match the other usually in a limited spacial extent. \n"
   ]
  },
  {
   "cell_type": "markdown",
   "id": "efa5774e",
   "metadata": {},
   "source": [
    "#### Fiducial Localization Error (FLE):\n",
    "\n",
    "Fiducial Localization Error is one of the major sources of inaccuracies in point based spatial registration in image guided systems. FLE is introduced when one set of points does not directly correlate to the set of points in which it is going to map to with the fiducial registration technique. Reducing FLE is crucial to the reduction of FRE, as FLE causes FRE, however, FLE and TRE have no correlation. While there are methods to estimate FLE in a specific instance, this is not valuable information for the purposes of this project, moreover, it is important to note that FLE is distributed normally, independently, isotropically, and identically."
   ]
  },
  {
   "cell_type": "markdown",
   "id": "b0b07980",
   "metadata": {},
   "source": [
    "#### Fiducial Registration Error (FRE): \n",
    "\n",
    "Fiducial Registration error is caused by FLE and it is the measure of the misalignment between fiducials within each image system. FRE has relationships with both FLE and TRE, and they can be measured using simple forumulas. Calculating FRE isnt important for the purposes of this project, as it has little effect on the overall outcome of tumour ablation such that TRE is minimal, however, understanding how to use the formula to calculate FRE is crucial, because it is used in the process for calculating TRE.\n",
    "\n",
    "#### Calculating FRE:\n",
    "\n",
    "Calculating FRE can be done by taking the mean least squares of the distance from the correct point to the fiducial alignment after the point set registration algorithm has been applied."
   ]
  },
  {
   "cell_type": "markdown",
   "id": "50deb4b1",
   "metadata": {},
   "source": [
    "#### Target Registration Error (TRE):\n",
    "\n",
    "Target registration error is the tool used to determine the accuracy of a rigid body translation for the purposes of fiducial registration. TRE can be predicted using FLE, however, FRE is not a predictor of TRE. TRE for practical purposes can be defined as the distance after registration between corresponding points not used in calculating the registration transformation.\n",
    "\n",
    "#### Calculating TRE:\n",
    "\n",
    "Calculating TRE can be done by taking the mean least squares of the distance from the correct point to the Target alignment after the point set registration algorithm has been applied.\n"
   ]
  }
 ],
 "metadata": {
  "kernelspec": {
   "display_name": "Python 3 (ipykernel)",
   "language": "python",
   "name": "python3"
  },
  "language_info": {
   "codemirror_mode": {
    "name": "ipython",
    "version": 3
   },
   "file_extension": ".py",
   "mimetype": "text/x-python",
   "name": "python",
   "nbconvert_exporter": "python",
   "pygments_lexer": "ipython3",
   "version": "3.9.7"
  }
 },
 "nbformat": 4,
 "nbformat_minor": 5
}
