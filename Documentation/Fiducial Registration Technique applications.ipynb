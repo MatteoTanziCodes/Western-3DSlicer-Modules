{
 "cells": [
  {
   "cell_type": "markdown",
   "id": "ecdb6b97",
   "metadata": {},
   "source": [
    "# Applications of Fiducial Registration Techniques"
   ]
  },
  {
   "cell_type": "markdown",
   "id": "2177a234",
   "metadata": {},
   "source": [
    "### Using Bifurcation Points of blood vessels as Fiducials\n",
    "Algorithm:\n",
    "\n",
    "\n",
    "Code:"
   ]
  },
  {
   "cell_type": "code",
   "execution_count": null,
   "id": "81f02bc7",
   "metadata": {},
   "outputs": [],
   "source": []
  },
  {
   "cell_type": "markdown",
   "id": "41e37c55",
   "metadata": {},
   "source": [
    "### Using Points on the Centerline of blood vessels as Fiducials\n",
    "Algorithm:\n",
    "\n",
    "\n",
    "Code:"
   ]
  },
  {
   "cell_type": "code",
   "execution_count": null,
   "id": "e73f7b65",
   "metadata": {},
   "outputs": [],
   "source": []
  },
  {
   "cell_type": "markdown",
   "id": "a03bfdba",
   "metadata": {},
   "source": [
    "### Using Points on the edge of the blood vessels as Fiducials\n",
    "Algorithm:\n",
    "\n",
    "\n",
    "Code:"
   ]
  },
  {
   "cell_type": "code",
   "execution_count": null,
   "id": "bbbefb23",
   "metadata": {},
   "outputs": [],
   "source": []
  }
 ],
 "metadata": {
  "kernelspec": {
   "display_name": "Python 3 (ipykernel)",
   "language": "python",
   "name": "python3"
  },
  "language_info": {
   "codemirror_mode": {
    "name": "ipython",
    "version": 3
   },
   "file_extension": ".py",
   "mimetype": "text/x-python",
   "name": "python",
   "nbconvert_exporter": "python",
   "pygments_lexer": "ipython3",
   "version": "3.9.7"
  }
 },
 "nbformat": 4,
 "nbformat_minor": 5
}
